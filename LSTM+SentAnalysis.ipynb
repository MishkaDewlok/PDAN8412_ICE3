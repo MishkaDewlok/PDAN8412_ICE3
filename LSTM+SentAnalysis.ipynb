{
  "nbformat": 4,
  "nbformat_minor": 0,
  "metadata": {
    "colab": {
      "provenance": [],
      "gpuType": "T4",
      "authorship_tag": "ABX9TyPv7ezqNImBKDmQXq1olCUs",
      "include_colab_link": true
    },
    "kernelspec": {
      "name": "python3",
      "display_name": "Python 3"
    },
    "language_info": {
      "name": "python"
    },
    "accelerator": "GPU"
  },
  "cells": [
    {
      "cell_type": "markdown",
      "metadata": {
        "id": "view-in-github",
        "colab_type": "text"
      },
      "source": [
        "<a href=\"https://colab.research.google.com/github/MishkaDewlok/PDAN8412_ICE3/blob/main/LSTM%2BSentAnalysis.ipynb\" target=\"_parent\"><img src=\"https://colab.research.google.com/assets/colab-badge.svg\" alt=\"Open In Colab\"/></a>"
      ]
    },
    {
      "cell_type": "code",
      "execution_count": null,
      "metadata": {
        "colab": {
          "base_uri": "https://localhost:8080/"
        },
        "id": "uB5KoDAkzEqy",
        "outputId": "baeb7292-0ab9-49e7-b8f0-2de6edf47640"
      },
      "outputs": [
        {
          "output_type": "stream",
          "name": "stdout",
          "text": [
            "TensorFlow version: 2.19.0\n"
          ]
        }
      ],
      "source": [
        "# Cell 1 - imports & seeds\n",
        "import numpy as np\n",
        "import tensorflow as tf\n",
        "from tensorflow import keras\n",
        "from tensorflow.keras import layers\n",
        "from tensorflow.keras.datasets import imdb, reuters\n",
        "from tensorflow.keras.preprocessing.sequence import pad_sequences\n",
        "import matplotlib.pyplot as plt\n",
        "import re\n",
        "\n",
        "# reproducibility (not perfect across devices, but helps)\n",
        "np.random.seed(42)\n",
        "tf.random.set_seed(42)\n",
        "\n",
        "print(\"TensorFlow version:\", tf.__version__)\n"
      ]
    },
    {
      "cell_type": "code",
      "source": [
        "# Cell 2 - load IMDB and inspect\n",
        "num_words = 10000   # we'll keep the top 10k words\n",
        "maxlen = 200        # max length for each review (you can tune this)\n",
        "\n",
        "(x_train, y_train), (x_test, y_test) = imdb.load_data(num_words=num_words)\n",
        "\n",
        "print(\"Train samples:\", len(x_train), \"Test samples:\", len(x_test))\n",
        "print(\"Example (first train sequence) length:\", len(x_train[0]))\n",
        "\n",
        "# show distribution of lengths (quick)\n",
        "lens = [len(x) for x in x_train]\n",
        "print(\"Median length:\", np.median(lens), \"Max length:\", np.max(lens))\n"
      ],
      "metadata": {
        "colab": {
          "base_uri": "https://localhost:8080/"
        },
        "id": "lbrRNrYWzrT5",
        "outputId": "0c4b4c56-1309-48e6-c680-3a7852765ae0"
      },
      "execution_count": null,
      "outputs": [
        {
          "output_type": "stream",
          "name": "stdout",
          "text": [
            "Train samples: 25000 Test samples: 25000\n",
            "Example (first train sequence) length: 218\n",
            "Median length: 178.0 Max length: 2494\n"
          ]
        }
      ]
    },
    {
      "cell_type": "code",
      "source": [
        "# Cell 3 - pad sequences\n",
        "x_train_pad = pad_sequences(x_train, maxlen=maxlen, padding='pre', truncating='pre')\n",
        "x_test_pad  = pad_sequences(x_test,  maxlen=maxlen, padding='pre', truncating='pre')\n",
        "\n",
        "print(\"Padded shape:\", x_train_pad.shape)\n",
        "print(\"First padded sample (first 20 tokens):\", x_train_pad[0][:20])\n"
      ],
      "metadata": {
        "colab": {
          "base_uri": "https://localhost:8080/"
        },
        "id": "f2MJuZGLzxoo",
        "outputId": "17eee788-0e90-4436-f6a4-621a2346b54e"
      },
      "execution_count": null,
      "outputs": [
        {
          "output_type": "stream",
          "name": "stdout",
          "text": [
            "Padded shape: (25000, 200)\n",
            "First padded sample (first 20 tokens): [  5  25 100  43 838 112  50 670   2   9  35 480 284   5 150   4 172 112\n",
            " 167   2]\n"
          ]
        }
      ]
    },
    {
      "cell_type": "code",
      "source": [
        "# Cell 4 - model definition (IMDB)\n",
        "embedding_dim = 128\n",
        "\n",
        "model_imdb = keras.Sequential([\n",
        "    layers.Embedding(input_dim=num_words, output_dim=embedding_dim, input_length=maxlen),\n",
        "    layers.LSTM(128, return_sequences=False),   # single LSTM layer\n",
        "    layers.Dense(64, activation='relu'),\n",
        "    layers.Dropout(0.5),\n",
        "    layers.Dense(1, activation='sigmoid')      # binary output\n",
        "])\n",
        "\n",
        "model_imdb.compile(optimizer='adam', loss='binary_crossentropy', metrics=['accuracy'])\n",
        "model_imdb.summary()\n"
      ],
      "metadata": {
        "colab": {
          "base_uri": "https://localhost:8080/",
          "height": 323
        },
        "id": "8trfidjZzz3u",
        "outputId": "f0371b8d-6760-4951-b964-a2634428d78b"
      },
      "execution_count": null,
      "outputs": [
        {
          "output_type": "stream",
          "name": "stderr",
          "text": [
            "/usr/local/lib/python3.12/dist-packages/keras/src/layers/core/embedding.py:97: UserWarning: Argument `input_length` is deprecated. Just remove it.\n",
            "  warnings.warn(\n"
          ]
        },
        {
          "output_type": "display_data",
          "data": {
            "text/plain": [
              "\u001b[1mModel: \"sequential\"\u001b[0m\n"
            ],
            "text/html": [
              "<pre style=\"white-space:pre;overflow-x:auto;line-height:normal;font-family:Menlo,'DejaVu Sans Mono',consolas,'Courier New',monospace\"><span style=\"font-weight: bold\">Model: \"sequential\"</span>\n",
              "</pre>\n"
            ]
          },
          "metadata": {}
        },
        {
          "output_type": "display_data",
          "data": {
            "text/plain": [
              "┏━━━━━━━━━━━━━━━━━━━━━━━━━━━━━━━━━┳━━━━━━━━━━━━━━━━━━━━━━━━┳━━━━━━━━━━━━━━━┓\n",
              "┃\u001b[1m \u001b[0m\u001b[1mLayer (type)                   \u001b[0m\u001b[1m \u001b[0m┃\u001b[1m \u001b[0m\u001b[1mOutput Shape          \u001b[0m\u001b[1m \u001b[0m┃\u001b[1m \u001b[0m\u001b[1m      Param #\u001b[0m\u001b[1m \u001b[0m┃\n",
              "┡━━━━━━━━━━━━━━━━━━━━━━━━━━━━━━━━━╇━━━━━━━━━━━━━━━━━━━━━━━━╇━━━━━━━━━━━━━━━┩\n",
              "│ embedding (\u001b[38;5;33mEmbedding\u001b[0m)           │ ?                      │   \u001b[38;5;34m0\u001b[0m (unbuilt) │\n",
              "├─────────────────────────────────┼────────────────────────┼───────────────┤\n",
              "│ lstm (\u001b[38;5;33mLSTM\u001b[0m)                     │ ?                      │   \u001b[38;5;34m0\u001b[0m (unbuilt) │\n",
              "├─────────────────────────────────┼────────────────────────┼───────────────┤\n",
              "│ dense (\u001b[38;5;33mDense\u001b[0m)                   │ ?                      │   \u001b[38;5;34m0\u001b[0m (unbuilt) │\n",
              "├─────────────────────────────────┼────────────────────────┼───────────────┤\n",
              "│ dropout (\u001b[38;5;33mDropout\u001b[0m)               │ ?                      │             \u001b[38;5;34m0\u001b[0m │\n",
              "├─────────────────────────────────┼────────────────────────┼───────────────┤\n",
              "│ dense_1 (\u001b[38;5;33mDense\u001b[0m)                 │ ?                      │   \u001b[38;5;34m0\u001b[0m (unbuilt) │\n",
              "└─────────────────────────────────┴────────────────────────┴───────────────┘\n"
            ],
            "text/html": [
              "<pre style=\"white-space:pre;overflow-x:auto;line-height:normal;font-family:Menlo,'DejaVu Sans Mono',consolas,'Courier New',monospace\">┏━━━━━━━━━━━━━━━━━━━━━━━━━━━━━━━━━┳━━━━━━━━━━━━━━━━━━━━━━━━┳━━━━━━━━━━━━━━━┓\n",
              "┃<span style=\"font-weight: bold\"> Layer (type)                    </span>┃<span style=\"font-weight: bold\"> Output Shape           </span>┃<span style=\"font-weight: bold\">       Param # </span>┃\n",
              "┡━━━━━━━━━━━━━━━━━━━━━━━━━━━━━━━━━╇━━━━━━━━━━━━━━━━━━━━━━━━╇━━━━━━━━━━━━━━━┩\n",
              "│ embedding (<span style=\"color: #0087ff; text-decoration-color: #0087ff\">Embedding</span>)           │ ?                      │   <span style=\"color: #00af00; text-decoration-color: #00af00\">0</span> (unbuilt) │\n",
              "├─────────────────────────────────┼────────────────────────┼───────────────┤\n",
              "│ lstm (<span style=\"color: #0087ff; text-decoration-color: #0087ff\">LSTM</span>)                     │ ?                      │   <span style=\"color: #00af00; text-decoration-color: #00af00\">0</span> (unbuilt) │\n",
              "├─────────────────────────────────┼────────────────────────┼───────────────┤\n",
              "│ dense (<span style=\"color: #0087ff; text-decoration-color: #0087ff\">Dense</span>)                   │ ?                      │   <span style=\"color: #00af00; text-decoration-color: #00af00\">0</span> (unbuilt) │\n",
              "├─────────────────────────────────┼────────────────────────┼───────────────┤\n",
              "│ dropout (<span style=\"color: #0087ff; text-decoration-color: #0087ff\">Dropout</span>)               │ ?                      │             <span style=\"color: #00af00; text-decoration-color: #00af00\">0</span> │\n",
              "├─────────────────────────────────┼────────────────────────┼───────────────┤\n",
              "│ dense_1 (<span style=\"color: #0087ff; text-decoration-color: #0087ff\">Dense</span>)                 │ ?                      │   <span style=\"color: #00af00; text-decoration-color: #00af00\">0</span> (unbuilt) │\n",
              "└─────────────────────────────────┴────────────────────────┴───────────────┘\n",
              "</pre>\n"
            ]
          },
          "metadata": {}
        },
        {
          "output_type": "display_data",
          "data": {
            "text/plain": [
              "\u001b[1m Total params: \u001b[0m\u001b[38;5;34m0\u001b[0m (0.00 B)\n"
            ],
            "text/html": [
              "<pre style=\"white-space:pre;overflow-x:auto;line-height:normal;font-family:Menlo,'DejaVu Sans Mono',consolas,'Courier New',monospace\"><span style=\"font-weight: bold\"> Total params: </span><span style=\"color: #00af00; text-decoration-color: #00af00\">0</span> (0.00 B)\n",
              "</pre>\n"
            ]
          },
          "metadata": {}
        },
        {
          "output_type": "display_data",
          "data": {
            "text/plain": [
              "\u001b[1m Trainable params: \u001b[0m\u001b[38;5;34m0\u001b[0m (0.00 B)\n"
            ],
            "text/html": [
              "<pre style=\"white-space:pre;overflow-x:auto;line-height:normal;font-family:Menlo,'DejaVu Sans Mono',consolas,'Courier New',monospace\"><span style=\"font-weight: bold\"> Trainable params: </span><span style=\"color: #00af00; text-decoration-color: #00af00\">0</span> (0.00 B)\n",
              "</pre>\n"
            ]
          },
          "metadata": {}
        },
        {
          "output_type": "display_data",
          "data": {
            "text/plain": [
              "\u001b[1m Non-trainable params: \u001b[0m\u001b[38;5;34m0\u001b[0m (0.00 B)\n"
            ],
            "text/html": [
              "<pre style=\"white-space:pre;overflow-x:auto;line-height:normal;font-family:Menlo,'DejaVu Sans Mono',consolas,'Courier New',monospace\"><span style=\"font-weight: bold\"> Non-trainable params: </span><span style=\"color: #00af00; text-decoration-color: #00af00\">0</span> (0.00 B)\n",
              "</pre>\n"
            ]
          },
          "metadata": {}
        }
      ]
    },
    {
      "cell_type": "code",
      "source": [
        "# Cell 5 - training\n",
        "callbacks = [\n",
        "    keras.callbacks.EarlyStopping(monitor='val_loss', patience=2, restore_best_weights=True)\n",
        "]\n",
        "\n",
        "history_imdb = model_imdb.fit(\n",
        "    x_train_pad, y_train,\n",
        "    epochs=10,\n",
        "    batch_size=64,\n",
        "    validation_split=0.2,\n",
        "    callbacks=callbacks\n",
        ")\n"
      ],
      "metadata": {
        "colab": {
          "base_uri": "https://localhost:8080/"
        },
        "id": "fMtfrdB_z3J5",
        "outputId": "d3a6885f-47d4-409f-fd91-1a70018a7b2d"
      },
      "execution_count": null,
      "outputs": [
        {
          "output_type": "stream",
          "name": "stdout",
          "text": [
            "Epoch 1/10\n",
            "\u001b[1m313/313\u001b[0m \u001b[32m━━━━━━━━━━━━━━━━━━━━\u001b[0m\u001b[37m\u001b[0m \u001b[1m12s\u001b[0m 15ms/step - accuracy: 0.6683 - loss: 0.5673 - val_accuracy: 0.8570 - val_loss: 0.3303\n",
            "Epoch 2/10\n",
            "\u001b[1m313/313\u001b[0m \u001b[32m━━━━━━━━━━━━━━━━━━━━\u001b[0m\u001b[37m\u001b[0m \u001b[1m4s\u001b[0m 14ms/step - accuracy: 0.8795 - loss: 0.3023 - val_accuracy: 0.8692 - val_loss: 0.3239\n",
            "Epoch 3/10\n",
            "\u001b[1m313/313\u001b[0m \u001b[32m━━━━━━━━━━━━━━━━━━━━\u001b[0m\u001b[37m\u001b[0m \u001b[1m5s\u001b[0m 15ms/step - accuracy: 0.9121 - loss: 0.2301 - val_accuracy: 0.8518 - val_loss: 0.3958\n",
            "Epoch 4/10\n",
            "\u001b[1m313/313\u001b[0m \u001b[32m━━━━━━━━━━━━━━━━━━━━\u001b[0m\u001b[37m\u001b[0m \u001b[1m4s\u001b[0m 13ms/step - accuracy: 0.9152 - loss: 0.2225 - val_accuracy: 0.8578 - val_loss: 0.4526\n"
          ]
        }
      ]
    },
    {
      "cell_type": "code",
      "source": [
        "# Cell 6 - plot training curves\n",
        "plt.figure(figsize=(12,4))\n",
        "plt.subplot(1,2,1)\n",
        "plt.plot(history_imdb.history['loss'], label='train_loss')\n",
        "plt.plot(history_imdb.history['val_loss'], label='val_loss')\n",
        "plt.title('IMDB Loss')\n",
        "plt.legend()\n",
        "\n",
        "plt.subplot(1,2,2)\n",
        "plt.plot(history_imdb.history['accuracy'], label='train_acc')\n",
        "plt.plot(history_imdb.history['val_accuracy'], label='val_acc')\n",
        "plt.title('IMDB Accuracy')\n",
        "plt.legend()\n",
        "\n",
        "plt.show()\n"
      ],
      "metadata": {
        "colab": {
          "base_uri": "https://localhost:8080/",
          "height": 391
        },
        "id": "Am0DdBtjz4BW",
        "outputId": "cc337ddd-08b2-41f3-8980-3e798279c84e"
      },
      "execution_count": null,
      "outputs": [
        {
          "output_type": "display_data",
          "data": {
            "text/plain": [
              "<Figure size 1200x400 with 2 Axes>"
            ],
            "image/png": "[encoded data removed]"
          },
          "metadata": {}
        }
      ]
    },
    {
      "cell_type": "code",
      "source": [
        "# Cell 7 - evaluate and predictions\n",
        "test_loss, test_acc = model_imdb.evaluate(x_test_pad, y_test, verbose=1)\n",
        "print(\"Test loss:\", test_loss, \"Test accuracy:\", test_acc)\n",
        "\n",
        "# Predict on a known test sample\n",
        "i = 0\n",
        "prob = model_imdb.predict(np.expand_dims(x_test_pad[i], 0))[0,0]\n",
        "print(\"Pred prob:\", prob, \"Pred label:\", int(prob>=0.5), \"True label:\", y_test[i])\n",
        "\n",
        "# Helper: get imdb word index mapping and encode raw text\n",
        "raw_word_index = imdb.get_word_index()\n",
        "# shift indexes by 3 because of reserved indices in Keras\n",
        "word_index = {k:(v+3) for k,v in raw_word_index.items()}\n",
        "word_index[\"<PAD>\"] = 0\n",
        "word_index[\"<START>\"] = 1\n",
        "word_index[\"<UNK>\"] = 2\n",
        "word_index[\"<UNUSED>\"] = 3\n",
        "reverse_word_index = {v:k for k,v in word_index.items()}\n",
        "\n",
        "def encode_review(text, num_words=num_words, maxlen=maxlen):\n",
        "    text = text.lower()\n",
        "    text = re.sub(r'[^\\w\\s]','', text)         # remove punctuation\n",
        "    tokens = text.split()\n",
        "    # start token\n",
        "    encoded = [1]\n",
        "    for t in tokens:\n",
        "        idx = word_index.get(t, 2)            # unknown -> 2\n",
        "        if idx >= num_words:\n",
        "            idx = 2\n",
        "        encoded.append(idx)\n",
        "    return pad_sequences([encoded], maxlen=maxlen, padding='pre')\n",
        "\n",
        "# Try with a new string\n",
        "new_review = \"This movie was fantastic! I loved the acting and the story.\"\n",
        "seq = encode_review(new_review)\n",
        "p = model_imdb.predict(seq)[0,0]\n",
        "print(\"Review:\", new_review)\n",
        "print(\"Predicted positive probability:\", p)\n"
      ],
      "metadata": {
        "colab": {
          "base_uri": "https://localhost:8080/"
        },
        "id": "NnB0HGqk1Nax",
        "outputId": "5b2b0668-46cc-4c90-c52a-65afc4fbf8dc"
      },
      "execution_count": null,
      "outputs": [
        {
          "output_type": "stream",
          "name": "stdout",
          "text": [
            "\u001b[1m782/782\u001b[0m \u001b[32m━━━━━━━━━━━━━━━━━━━━\u001b[0m\u001b[37m\u001b[0m \u001b[1m4s\u001b[0m 5ms/step - accuracy: 0.8634 - loss: 0.3361\n",
            "Test loss: 0.33351045846939087 Test accuracy: 0.8641600012779236\n",
            "\u001b[1m1/1\u001b[0m \u001b[32m━━━━━━━━━━━━━━━━━━━━\u001b[0m\u001b[37m\u001b[0m \u001b[1m0s\u001b[0m 113ms/step\n",
            "Pred prob: 0.05840855 Pred label: 0 True label: 0\n",
            "Downloading data from https://storage.googleapis.com/tensorflow/tf-keras-datasets/imdb_word_index.json\n",
            "\u001b[1m1641221/1641221\u001b[0m \u001b[32m━━━━━━━━━━━━━━━━━━━━\u001b[0m\u001b[37m\u001b[0m \u001b[1m0s\u001b[0m 0us/step\n",
            "\u001b[1m1/1\u001b[0m \u001b[32m━━━━━━━━━━━━━━━━━━━━\u001b[0m\u001b[37m\u001b[0m \u001b[1m0s\u001b[0m 30ms/step\n",
            "Review: This movie was fantastic! I loved the acting and the story.\n",
            "Predicted positive probability: 0.9271733\n"
          ]
        }
      ]
    },
    {
      "cell_type": "code",
      "source": [
        "# Cell 8 - Reuters load & inspect\n",
        "num_words_reuters = 10000\n",
        "maxlen_reuters = 200\n",
        "\n",
        "(x_train_r, y_train_r), (x_test_r, y_test_r) = reuters.load_data(num_words=num_words_reuters)\n",
        "num_classes = np.max(y_train_r) + 1\n",
        "print(\"Reuters classes:\", num_classes)\n",
        "print(\"Train samples:\", len(x_train_r))\n",
        "\n",
        "# pad\n",
        "x_train_r_pad = pad_sequences(x_train_r, maxlen=maxlen_reuters, padding='pre')\n",
        "x_test_r_pad  = pad_sequences(x_test_r,  maxlen=maxlen_reuters, padding='pre')\n"
      ],
      "metadata": {
        "colab": {
          "base_uri": "https://localhost:8080/"
        },
        "id": "tBw9Jk2r1TH0",
        "outputId": "3c1835ac-c4b4-4825-c4e6-c43200b9ff3b"
      },
      "execution_count": null,
      "outputs": [
        {
          "output_type": "stream",
          "name": "stdout",
          "text": [
            "Downloading data from https://storage.googleapis.com/tensorflow/tf-keras-datasets/reuters.npz\n",
            "\u001b[1m2110848/2110848\u001b[0m \u001b[32m━━━━━━━━━━━━━━━━━━━━\u001b[0m\u001b[37m\u001b[0m \u001b[1m0s\u001b[0m 0us/step\n",
            "Reuters classes: 46\n",
            "Train samples: 8982\n"
          ]
        }
      ]
    },
    {
      "cell_type": "code",
      "source": [
        "# Cell 9 - Reuters model\n",
        "model_reuters = keras.Sequential([\n",
        "    layers.Embedding(input_dim=num_words_reuters, output_dim=128, input_length=maxlen_reuters),\n",
        "    layers.LSTM(128),\n",
        "    layers.Dense(64, activation='relu'),\n",
        "    layers.Dropout(0.5),\n",
        "    layers.Dense(num_classes, activation='softmax')\n",
        "])\n",
        "\n",
        "model_reuters.compile(optimizer='adam', loss='sparse_categorical_crossentropy', metrics=['accuracy'])\n",
        "model_reuters.summary()\n",
        "\n",
        "history_reuters = model_reuters.fit(\n",
        "    x_train_r_pad, y_train_r,\n",
        "    epochs=12,\n",
        "    batch_size=64,\n",
        "    validation_split=0.2,\n",
        "    callbacks=[keras.callbacks.EarlyStopping(monitor='val_loss', patience=2, restore_best_weights=True)]\n",
        ")\n"
      ],
      "metadata": {
        "colab": {
          "base_uri": "https://localhost:8080/",
          "height": 595
        },
        "id": "AfqWKPE51VjB",
        "outputId": "30812b61-cf35-4df3-a223-e3b1cb7176a3"
      },
      "execution_count": null,
      "outputs": [
        {
          "output_type": "display_data",
          "data": {
            "text/plain": [
              "\u001b[1mModel: \"sequential_1\"\u001b[0m\n"
            ],
            "text/html": [
              "<pre style=\"white-space:pre;overflow-x:auto;line-height:normal;font-family:Menlo,'DejaVu Sans Mono',consolas,'Courier New',monospace\"><span style=\"font-weight: bold\">Model: \"sequential_1\"</span>\n",
              "</pre>\n"
            ]
          },
          "metadata": {}
        },
        {
          "output_type": "display_data",
          "data": {
            "text/plain": [
              "┏━━━━━━━━━━━━━━━━━━━━━━━━━━━━━━━━━┳━━━━━━━━━━━━━━━━━━━━━━━━┳━━━━━━━━━━━━━━━┓\n",
              "┃\u001b[1m \u001b[0m\u001b[1mLayer (type)                   \u001b[0m\u001b[1m \u001b[0m┃\u001b[1m \u001b[0m\u001b[1mOutput Shape          \u001b[0m\u001b[1m \u001b[0m┃\u001b[1m \u001b[0m\u001b[1m      Param #\u001b[0m\u001b[1m \u001b[0m┃\n",
              "┡━━━━━━━━━━━━━━━━━━━━━━━━━━━━━━━━━╇━━━━━━━━━━━━━━━━━━━━━━━━╇━━━━━━━━━━━━━━━┩\n",
              "│ embedding_1 (\u001b[38;5;33mEmbedding\u001b[0m)         │ ?                      │   \u001b[38;5;34m0\u001b[0m (unbuilt) │\n",
              "├─────────────────────────────────┼────────────────────────┼───────────────┤\n",
              "│ lstm_1 (\u001b[38;5;33mLSTM\u001b[0m)                   │ ?                      │   \u001b[38;5;34m0\u001b[0m (unbuilt) │\n",
              "├─────────────────────────────────┼────────────────────────┼───────────────┤\n",
              "│ dense_2 (\u001b[38;5;33mDense\u001b[0m)                 │ ?                      │   \u001b[38;5;34m0\u001b[0m (unbuilt) │\n",
              "├─────────────────────────────────┼────────────────────────┼───────────────┤\n",
              "│ dropout_1 (\u001b[38;5;33mDropout\u001b[0m)             │ ?                      │             \u001b[38;5;34m0\u001b[0m │\n",
              "├─────────────────────────────────┼────────────────────────┼───────────────┤\n",
              "│ dense_3 (\u001b[38;5;33mDense\u001b[0m)                 │ ?                      │   \u001b[38;5;34m0\u001b[0m (unbuilt) │\n",
              "└─────────────────────────────────┴────────────────────────┴───────────────┘\n"
            ],
            "text/html": [
              "<pre style=\"white-space:pre;overflow-x:auto;line-height:normal;font-family:Menlo,'DejaVu Sans Mono',consolas,'Courier New',monospace\">┏━━━━━━━━━━━━━━━━━━━━━━━━━━━━━━━━━┳━━━━━━━━━━━━━━━━━━━━━━━━┳━━━━━━━━━━━━━━━┓\n",
              "┃<span style=\"font-weight: bold\"> Layer (type)                    </span>┃<span style=\"font-weight: bold\"> Output Shape           </span>┃<span style=\"font-weight: bold\">       Param # </span>┃\n",
              "┡━━━━━━━━━━━━━━━━━━━━━━━━━━━━━━━━━╇━━━━━━━━━━━━━━━━━━━━━━━━╇━━━━━━━━━━━━━━━┩\n",
              "│ embedding_1 (<span style=\"color: #0087ff; text-decoration-color: #0087ff\">Embedding</span>)         │ ?                      │   <span style=\"color: #00af00; text-decoration-color: #00af00\">0</span> (unbuilt) │\n",
              "├─────────────────────────────────┼────────────────────────┼───────────────┤\n",
              "│ lstm_1 (<span style=\"color: #0087ff; text-decoration-color: #0087ff\">LSTM</span>)                   │ ?                      │   <span style=\"color: #00af00; text-decoration-color: #00af00\">0</span> (unbuilt) │\n",
              "├─────────────────────────────────┼────────────────────────┼───────────────┤\n",
              "│ dense_2 (<span style=\"color: #0087ff; text-decoration-color: #0087ff\">Dense</span>)                 │ ?                      │   <span style=\"color: #00af00; text-decoration-color: #00af00\">0</span> (unbuilt) │\n",
              "├─────────────────────────────────┼────────────────────────┼───────────────┤\n",
              "│ dropout_1 (<span style=\"color: #0087ff; text-decoration-color: #0087ff\">Dropout</span>)             │ ?                      │             <span style=\"color: #00af00; text-decoration-color: #00af00\">0</span> │\n",
              "├─────────────────────────────────┼────────────────────────┼───────────────┤\n",
              "│ dense_3 (<span style=\"color: #0087ff; text-decoration-color: #0087ff\">Dense</span>)                 │ ?                      │   <span style=\"color: #00af00; text-decoration-color: #00af00\">0</span> (unbuilt) │\n",
              "└─────────────────────────────────┴────────────────────────┴───────────────┘\n",
              "</pre>\n"
            ]
          },
          "metadata": {}
        },
        {
          "output_type": "display_data",
          "data": {
            "text/plain": [
              "\u001b[1m Total params: \u001b[0m\u001b[38;5;34m0\u001b[0m (0.00 B)\n"
            ],
            "text/html": [
              "<pre style=\"white-space:pre;overflow-x:auto;line-height:normal;font-family:Menlo,'DejaVu Sans Mono',consolas,'Courier New',monospace\"><span style=\"font-weight: bold\"> Total params: </span><span style=\"color: #00af00; text-decoration-color: #00af00\">0</span> (0.00 B)\n",
              "</pre>\n"
            ]
          },
          "metadata": {}
        },
        {
          "output_type": "display_data",
          "data": {
            "text/plain": [
              "\u001b[1m Trainable params: \u001b[0m\u001b[38;5;34m0\u001b[0m (0.00 B)\n"
            ],
            "text/html": [
              "<pre style=\"white-space:pre;overflow-x:auto;line-height:normal;font-family:Menlo,'DejaVu Sans Mono',consolas,'Courier New',monospace\"><span style=\"font-weight: bold\"> Trainable params: </span><span style=\"color: #00af00; text-decoration-color: #00af00\">0</span> (0.00 B)\n",
              "</pre>\n"
            ]
          },
          "metadata": {}
        },
        {
          "output_type": "display_data",
          "data": {
            "text/plain": [
              "\u001b[1m Non-trainable params: \u001b[0m\u001b[38;5;34m0\u001b[0m (0.00 B)\n"
            ],
            "text/html": [
              "<pre style=\"white-space:pre;overflow-x:auto;line-height:normal;font-family:Menlo,'DejaVu Sans Mono',consolas,'Courier New',monospace\"><span style=\"font-weight: bold\"> Non-trainable params: </span><span style=\"color: #00af00; text-decoration-color: #00af00\">0</span> (0.00 B)\n",
              "</pre>\n"
            ]
          },
          "metadata": {}
        },
        {
          "output_type": "stream",
          "name": "stdout",
          "text": [
            "Epoch 1/12\n",
            "\u001b[1m113/113\u001b[0m \u001b[32m━━━━━━━━━━━━━━━━━━━━\u001b[0m\u001b[37m\u001b[0m \u001b[1m5s\u001b[0m 19ms/step - accuracy: 0.2855 - loss: 2.9973 - val_accuracy: 0.4636 - val_loss: 1.9849\n",
            "Epoch 2/12\n",
            "\u001b[1m113/113\u001b[0m \u001b[32m━━━━━━━━━━━━━━━━━━━━\u001b[0m\u001b[37m\u001b[0m \u001b[1m2s\u001b[0m 14ms/step - accuracy: 0.4732 - loss: 1.9838 - val_accuracy: 0.5409 - val_loss: 1.7292\n",
            "Epoch 3/12\n",
            "\u001b[1m113/113\u001b[0m \u001b[32m━━━━━━━━━━━━━━━━━━━━\u001b[0m\u001b[37m\u001b[0m \u001b[1m2s\u001b[0m 14ms/step - accuracy: 0.5323 - loss: 1.8421 - val_accuracy: 0.5498 - val_loss: 1.7038\n",
            "Epoch 4/12\n",
            "\u001b[1m113/113\u001b[0m \u001b[32m━━━━━━━━━━━━━━━━━━━━\u001b[0m\u001b[37m\u001b[0m \u001b[1m3s\u001b[0m 17ms/step - accuracy: 0.5627 - loss: 1.6910 - val_accuracy: 0.5776 - val_loss: 1.6179\n",
            "Epoch 5/12\n",
            "\u001b[1m113/113\u001b[0m \u001b[32m━━━━━━━━━━━━━━━━━━━━\u001b[0m\u001b[37m\u001b[0m \u001b[1m2s\u001b[0m 14ms/step - accuracy: 0.5801 - loss: 1.5515 - val_accuracy: 0.5776 - val_loss: 1.6127\n",
            "Epoch 6/12\n",
            "\u001b[1m113/113\u001b[0m \u001b[32m━━━━━━━━━━━━━━━━━━━━\u001b[0m\u001b[37m\u001b[0m \u001b[1m3s\u001b[0m 15ms/step - accuracy: 0.5937 - loss: 1.5294 - val_accuracy: 0.5965 - val_loss: 1.6669\n",
            "Epoch 7/12\n",
            "\u001b[1m113/113\u001b[0m \u001b[32m━━━━━━━━━━━━━━━━━━━━\u001b[0m\u001b[37m\u001b[0m \u001b[1m2s\u001b[0m 14ms/step - accuracy: 0.6247 - loss: 1.4400 - val_accuracy: 0.5960 - val_loss: 1.5827\n",
            "Epoch 8/12\n",
            "\u001b[1m113/113\u001b[0m \u001b[32m━━━━━━━━━━━━━━━━━━━━\u001b[0m\u001b[37m\u001b[0m \u001b[1m3s\u001b[0m 14ms/step - accuracy: 0.6076 - loss: 1.3903 - val_accuracy: 0.5871 - val_loss: 1.5996\n",
            "Epoch 9/12\n",
            "\u001b[1m113/113\u001b[0m \u001b[32m━━━━━━━━━━━━━━━━━━━━\u001b[0m\u001b[37m\u001b[0m \u001b[1m3s\u001b[0m 15ms/step - accuracy: 0.6564 - loss: 1.2409 - val_accuracy: 0.6205 - val_loss: 1.6375\n"
          ]
        }
      ]
    },
    {
      "cell_type": "code",
      "source": [
        "# Cell 10 - evaluate and classification report\n",
        "loss_r, acc_r = model_reuters.evaluate(x_test_r_pad, y_test_r)\n",
        "print(\"Reuters test loss:\", loss_r, \"accuracy:\", acc_r)\n",
        "\n",
        "# predictions and classification report (sklearn)\n",
        "pred_probs = model_reuters.predict(x_test_r_pad)\n",
        "pred_labels = np.argmax(pred_probs, axis=1)\n",
        "\n",
        "from sklearn.metrics import classification_report\n",
        "print(classification_report(y_test_r, pred_labels, digits=3))\n"
      ],
      "metadata": {
        "colab": {
          "base_uri": "https://localhost:8080/"
        },
        "id": "RB58X0PV1fKr",
        "outputId": "595f5de5-7611-4777-bc58-37583668ce5c"
      },
      "execution_count": null,
      "outputs": [
        {
          "output_type": "stream",
          "name": "stdout",
          "text": [
            "\u001b[1m71/71\u001b[0m \u001b[32m━━━━━━━━━━━━━━━━━━━━\u001b[0m\u001b[37m\u001b[0m \u001b[1m1s\u001b[0m 7ms/step - accuracy: 0.5989 - loss: 1.5973\n",
            "Reuters test loss: 1.6660447120666504 accuracy: 0.5823686718940735\n",
            "\u001b[1m71/71\u001b[0m \u001b[32m━━━━━━━━━━━━━━━━━━━━\u001b[0m\u001b[37m\u001b[0m \u001b[1m1s\u001b[0m 8ms/step\n",
            "              precision    recall  f1-score   support\n",
            "\n",
            "           0      0.000     0.000     0.000        12\n",
            "           1      0.203     0.610     0.304       105\n",
            "           2      0.000     0.000     0.000        20\n",
            "           3      0.850     0.941     0.893       813\n",
            "           4      0.730     0.734     0.732       474\n",
            "           5      0.000     0.000     0.000         5\n",
            "           6      0.000     0.000     0.000        14\n",
            "           7      0.000     0.000     0.000         3\n",
            "           8      0.000     0.000     0.000        38\n",
            "           9      0.000     0.000     0.000        25\n",
            "          10      0.087     0.300     0.135        30\n",
            "          11      0.387     0.145     0.211        83\n",
            "          12      0.000     0.000     0.000        13\n",
            "          13      0.000     0.000     0.000        37\n",
            "          14      0.000     0.000     0.000         2\n",
            "          15      0.000     0.000     0.000         9\n",
            "          16      0.179     0.152     0.164        99\n",
            "          17      0.000     0.000     0.000        12\n",
            "          18      0.000     0.000     0.000        20\n",
            "          19      0.366     0.669     0.473       133\n",
            "          20      0.000     0.000     0.000        70\n",
            "          21      0.000     0.000     0.000        27\n",
            "          22      0.000     0.000     0.000         7\n",
            "          23      0.000     0.000     0.000        12\n",
            "          24      0.000     0.000     0.000        19\n",
            "          25      0.079     0.194     0.112        31\n",
            "          26      0.000     0.000     0.000         8\n",
            "          27      0.000     0.000     0.000         4\n",
            "          28      0.000     0.000     0.000        10\n",
            "          29      0.000     0.000     0.000         4\n",
            "          30      0.000     0.000     0.000        12\n",
            "          31      0.000     0.000     0.000        13\n",
            "          32      0.000     0.000     0.000        10\n",
            "          33      0.000     0.000     0.000         5\n",
            "          34      0.000     0.000     0.000         7\n",
            "          35      0.000     0.000     0.000         6\n",
            "          36      0.000     0.000     0.000        11\n",
            "          37      0.000     0.000     0.000         2\n",
            "          38      0.000     0.000     0.000         3\n",
            "          39      0.000     0.000     0.000         5\n",
            "          40      0.000     0.000     0.000        10\n",
            "          41      0.000     0.000     0.000         8\n",
            "          42      0.000     0.000     0.000         3\n",
            "          43      0.000     0.000     0.000         6\n",
            "          44      0.000     0.000     0.000         5\n",
            "          45      0.000     0.000     0.000         1\n",
            "\n",
            "    accuracy                          0.582      2246\n",
            "   macro avg      0.063     0.081     0.066      2246\n",
            "weighted avg      0.517     0.582     0.538      2246\n",
            "\n"
          ]
        },
        {
          "output_type": "stream",
          "name": "stderr",
          "text": [
            "/usr/local/lib/python3.12/dist-packages/sklearn/metrics/_classification.py:1565: UndefinedMetricWarning: Precision is ill-defined and being set to 0.0 in labels with no predicted samples. Use `zero_division` parameter to control this behavior.\n",
            "  _warn_prf(average, modifier, f\"{metric.capitalize()} is\", len(result))\n",
            "/usr/local/lib/python3.12/dist-packages/sklearn/metrics/_classification.py:1565: UndefinedMetricWarning: Precision is ill-defined and being set to 0.0 in labels with no predicted samples. Use `zero_division` parameter to control this behavior.\n",
            "  _warn_prf(average, modifier, f\"{metric.capitalize()} is\", len(result))\n",
            "/usr/local/lib/python3.12/dist-packages/sklearn/metrics/_classification.py:1565: UndefinedMetricWarning: Precision is ill-defined and being set to 0.0 in labels with no predicted samples. Use `zero_division` parameter to control this behavior.\n",
            "  _warn_prf(average, modifier, f\"{metric.capitalize()} is\", len(result))\n"
          ]
        }
      ]
    },
    {
      "cell_type": "code",
      "source": [
        "# Cell 11 - inspect a decoded article\n",
        "raw_word_index_r = reuters.get_word_index()\n",
        "# Keras also uses an offset of 3 for special tokens\n",
        "reverse_word_index_r = {value+3: key for key, value in raw_word_index_r.items()}\n",
        "reverse_word_index_r[0] = '<PAD>'\n",
        "reverse_word_index_r[1] = '<START>'\n",
        "reverse_word_index_r[2] = '<UNK>'\n",
        "\n",
        "def decode_reuters(encoded_seq):\n",
        "    return \" \".join([reverse_word_index_r.get(i, '?') for i in encoded_seq if i != 0])\n",
        "\n",
        "idx = 0\n",
        "print(\"Decoded Reuters article (truncated):\")\n",
        "print(decode_reuters(x_test_r[:1][0][:100]))  # show first 100 tokens (before padding)\n",
        "print(\"True label:\", y_test_r[idx], \"Pred label:\", pred_labels[idx])\n"
      ],
      "metadata": {
        "colab": {
          "base_uri": "https://localhost:8080/"
        },
        "id": "SExbvmAc1htb",
        "outputId": "e47fb886-f674-45e3-cada-21c5d84f572f"
      },
      "execution_count": null,
      "outputs": [
        {
          "output_type": "stream",
          "name": "stdout",
          "text": [
            "Downloading data from https://storage.googleapis.com/tensorflow/tf-keras-datasets/reuters_word_index.json\n",
            "\u001b[1m550378/550378\u001b[0m \u001b[32m━━━━━━━━━━━━━━━━━━━━\u001b[0m\u001b[37m\u001b[0m \u001b[1m0s\u001b[0m 0us/step\n",
            "Decoded Reuters article (truncated):\n",
            "<START> the great atlantic and pacific tea co said its three year 345 mln dlr capital program will be be substantially increased to <UNK> growth and expansion plans for <UNK> inc and <UNK> inc over the next two years a and p said the acquisition of <UNK> in august 1986 and <UNK> in december helped us achieve better than expected results in the fourth quarter ended february 28 its net income from continuing operations jumped 52 6 pct to 20 7 mln dlrs or 55 cts a share in the latest quarter as sales increased 48 3 pct to 1\n",
            "True label: 3 Pred label: 3\n"
          ]
        }
      ]
    }
  ]
}